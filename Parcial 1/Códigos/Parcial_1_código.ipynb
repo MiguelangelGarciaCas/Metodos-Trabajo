{
 "cells": [
  {
   "cell_type": "code",
   "execution_count": 170,
   "id": "4102e682",
   "metadata": {},
   "outputs": [],
   "source": [
    "import numpy as np\n",
    "import math \n",
    "import matplotlib.pyplot as plt\n",
    "from numpy.linalg import norm"
   ]
  },
  {
   "cell_type": "code",
   "execution_count": 117,
   "id": "942ff381",
   "metadata": {},
   "outputs": [],
   "source": [
    "R=(2,-2)\n",
    "T=(-3,2)\n",
    "x=np.linspace(-3,3,60)"
   ]
  },
  {
   "cell_type": "code",
   "execution_count": 118,
   "id": "916bc638",
   "metadata": {},
   "outputs": [],
   "source": [
    "def Function(x):\n",
    "    \n",
    "    return n_0*((x-T[0])**2+T[1]**2)**(1/2)+n_1*((x-R[0])**2+R[1]**2)**(1/2)"
   ]
  },
  {
   "cell_type": "code",
   "execution_count": 119,
   "id": "56e6834e",
   "metadata": {},
   "outputs": [],
   "source": [
    "\n",
    "n_0=1\n",
    "n_1=1.33\n",
    "\n",
    "def tiempo_viaje(x,R,T):\n",
    "    lista_t=[]\n",
    "    for i in x:\n",
    "        t=n_0*((i-T[0])**2+T[1]**2)**(1/2)+n_1*((i-R[0])**2+R[1]**2)**(1/2)\n",
    "        lista_t.append(t)\n",
    "    menor=lista_t[0]\n",
    "    for j in lista_t:\n",
    "        if j<menor:\n",
    "            menor=j\n",
    "    print('Minimo',menor)\n",
    "    plt.plot(x, lista_t,color='red')\n",
    "    \n",
    "    plt.show()\n",
    "    "
   ]
  },
  {
   "cell_type": "code",
   "execution_count": 120,
   "id": "d6b0ca86",
   "metadata": {},
   "outputs": [
    {
     "name": "stdout",
     "output_type": "stream",
     "text": [
      "Minimo 7.350076676436255\n"
     ]
    },
    {
     "data": {
      "image/png": "[encoded data removed]",
      "text/plain": [
       "<Figure size 432x288 with 1 Axes>"
      ]
     },
     "metadata": {
      "needs_background": "light"
     },
     "output_type": "display_data"
    }
   ],
   "source": [
    "\n",
    "tiempo_viaje(x,R,T)"
   ]
  },
  {
   "cell_type": "code",
   "execution_count": 121,
   "id": "c18c8e7d",
   "metadata": {},
   "outputs": [],
   "source": [
    "def Derivative(f,x,h=1e-5):\n",
    "    return (f(x+h)-f(x-h))/(2*h)"
   ]
  },
  {
   "cell_type": "code",
   "execution_count": 122,
   "id": "9618e2c3",
   "metadata": {},
   "outputs": [],
   "source": [
    "def Derivative_2(f,x,h=1e-5):\n",
    "    return (f(x+h)-2*f(x)+f(x-h))/(h**2)"
   ]
  },
  {
   "cell_type": "code",
   "execution_count": 186,
   "id": "18487fd5",
   "metadata": {},
   "outputs": [
    {
     "ename": "TypeError",
     "evalue": "'float' object is not callable",
     "output_type": "error",
     "traceback": [
      "\u001b[1;31m---------------------------------------------------------------------------\u001b[0m",
      "\u001b[1;31mTypeError\u001b[0m                                 Traceback (most recent call last)",
      "\u001b[1;32m~\\AppData\\Local\\Temp/ipykernel_8896/1767660585.py\u001b[0m in \u001b[0;36m<module>\u001b[1;34m\u001b[0m\n\u001b[0;32m      2\u001b[0m \u001b[1;33m\u001b[0m\u001b[0m\n\u001b[0;32m      3\u001b[0m \u001b[1;32mfor\u001b[0m \u001b[0mi\u001b[0m \u001b[1;32min\u001b[0m \u001b[0mrange\u001b[0m\u001b[1;33m(\u001b[0m\u001b[1;36m0\u001b[0m\u001b[1;33m,\u001b[0m\u001b[1;36m1000\u001b[0m\u001b[1;33m)\u001b[0m\u001b[1;33m:\u001b[0m\u001b[1;33m\u001b[0m\u001b[1;33m\u001b[0m\u001b[0m\n\u001b[1;32m----> 4\u001b[1;33m     \u001b[0mm\u001b[0m\u001b[1;33m-=\u001b[0m\u001b[0mDerivative\u001b[0m\u001b[1;33m(\u001b[0m\u001b[0mFunction\u001b[0m\u001b[1;33m(\u001b[0m\u001b[0mm\u001b[0m\u001b[1;33m)\u001b[0m\u001b[1;33m,\u001b[0m\u001b[0mm\u001b[0m\u001b[1;33m)\u001b[0m\u001b[1;33m/\u001b[0m\u001b[0mDerivative_2\u001b[0m\u001b[1;33m(\u001b[0m\u001b[0mFunction\u001b[0m\u001b[1;33m(\u001b[0m\u001b[0mm\u001b[0m\u001b[1;33m)\u001b[0m\u001b[1;33m,\u001b[0m\u001b[0mm\u001b[0m\u001b[1;33m)\u001b[0m\u001b[1;33m\u001b[0m\u001b[1;33m\u001b[0m\u001b[0m\n\u001b[0m\u001b[0;32m      5\u001b[0m \u001b[0mprint\u001b[0m\u001b[1;33m(\u001b[0m\u001b[0mm\u001b[0m\u001b[1;33m)\u001b[0m\u001b[1;33m\u001b[0m\u001b[1;33m\u001b[0m\u001b[0m\n",
      "\u001b[1;32m~\\AppData\\Local\\Temp/ipykernel_8896/2887075090.py\u001b[0m in \u001b[0;36mDerivative\u001b[1;34m(f, x, h)\u001b[0m\n\u001b[0;32m      1\u001b[0m \u001b[1;32mdef\u001b[0m \u001b[0mDerivative\u001b[0m\u001b[1;33m(\u001b[0m\u001b[0mf\u001b[0m\u001b[1;33m,\u001b[0m\u001b[0mx\u001b[0m\u001b[1;33m,\u001b[0m\u001b[0mh\u001b[0m\u001b[1;33m=\u001b[0m\u001b[1;36m1e-5\u001b[0m\u001b[1;33m)\u001b[0m\u001b[1;33m:\u001b[0m\u001b[1;33m\u001b[0m\u001b[1;33m\u001b[0m\u001b[0m\n\u001b[1;32m----> 2\u001b[1;33m     \u001b[1;32mreturn\u001b[0m \u001b[1;33m(\u001b[0m\u001b[0mf\u001b[0m\u001b[1;33m(\u001b[0m\u001b[0mx\u001b[0m\u001b[1;33m+\u001b[0m\u001b[0mh\u001b[0m\u001b[1;33m)\u001b[0m\u001b[1;33m-\u001b[0m\u001b[0mf\u001b[0m\u001b[1;33m(\u001b[0m\u001b[0mx\u001b[0m\u001b[1;33m-\u001b[0m\u001b[0mh\u001b[0m\u001b[1;33m)\u001b[0m\u001b[1;33m)\u001b[0m\u001b[1;33m/\u001b[0m\u001b[1;33m(\u001b[0m\u001b[1;36m2\u001b[0m\u001b[1;33m*\u001b[0m\u001b[0mh\u001b[0m\u001b[1;33m)\u001b[0m\u001b[1;33m\u001b[0m\u001b[1;33m\u001b[0m\u001b[0m\n\u001b[0m",
      "\u001b[1;31mTypeError\u001b[0m: 'float' object is not callable"
     ]
    }
   ],
   "source": [
    "m=-3\n",
    "\n",
    "for i in range(0,1000):\n",
    "    m-=Derivative(Function(m),m)/Derivative_2(Function(m),m)\n",
    "print(m)"
   ]
  },
  {
   "cell_type": "code",
   "execution_count": 182,
   "id": "97a668df",
   "metadata": {},
   "outputs": [],
   "source": []
  },
  {
   "cell_type": "code",
   "execution_count": 183,
   "id": "2efc0415",
   "metadata": {},
   "outputs": [
    {
     "name": "stdout",
     "output_type": "stream",
     "text": [
      "100\n",
      "Division por cero\n"
     ]
    },
    {
     "ename": "UnboundLocalError",
     "evalue": "local variable 'xn1' referenced before assignment",
     "output_type": "error",
     "traceback": [
      "\u001b[1;31m---------------------------------------------------------------------------\u001b[0m",
      "\u001b[1;31mUnboundLocalError\u001b[0m                         Traceback (most recent call last)",
      "\u001b[1;32m~\\AppData\\Local\\Temp/ipykernel_8896/1554192868.py\u001b[0m in \u001b[0;36m<module>\u001b[1;34m\u001b[0m\n\u001b[1;32m----> 1\u001b[1;33m \u001b[0mx\u001b[0m \u001b[1;33m=\u001b[0m \u001b[0mGetNewtonRaphson\u001b[0m\u001b[1;33m(\u001b[0m\u001b[0mFunction\u001b[0m\u001b[1;33m,\u001b[0m\u001b[0mDerivative\u001b[0m\u001b[1;33m,\u001b[0m\u001b[0mDerivative_2\u001b[0m\u001b[1;33m,\u001b[0m\u001b[1;36m100\u001b[0m\u001b[1;33m)\u001b[0m\u001b[1;33m\u001b[0m\u001b[1;33m\u001b[0m\u001b[0m\n\u001b[0m\u001b[0;32m      2\u001b[0m \u001b[0mx\u001b[0m\u001b[1;33m\u001b[0m\u001b[1;33m\u001b[0m\u001b[0m\n",
      "\u001b[1;32m~\\AppData\\Local\\Temp/ipykernel_8896/1274935447.py\u001b[0m in \u001b[0;36mGetNewtonRaphson\u001b[1;34m(f, df, df2, xn, itmax, precision)\u001b[0m\n\u001b[0;32m     20\u001b[0m \u001b[1;33m\u001b[0m\u001b[0m\n\u001b[0;32m     21\u001b[0m         \u001b[0mit\u001b[0m \u001b[1;33m+=\u001b[0m \u001b[1;36m1\u001b[0m\u001b[1;33m\u001b[0m\u001b[1;33m\u001b[0m\u001b[0m\n\u001b[1;32m---> 22\u001b[1;33m         \u001b[0mxn\u001b[0m \u001b[1;33m=\u001b[0m \u001b[0mxn1\u001b[0m\u001b[1;33m\u001b[0m\u001b[1;33m\u001b[0m\u001b[0m\n\u001b[0m\u001b[0;32m     23\u001b[0m         \u001b[1;31m#print(xn)\u001b[0m\u001b[1;33m\u001b[0m\u001b[1;33m\u001b[0m\u001b[0m\n\u001b[0;32m     24\u001b[0m     \u001b[1;32mreturn\u001b[0m \u001b[0mxn\u001b[0m\u001b[1;33m\u001b[0m\u001b[1;33m\u001b[0m\u001b[0m\n",
      "\u001b[1;31mUnboundLocalError\u001b[0m: local variable 'xn1' referenced before assignment"
     ]
    }
   ],
   "source": []
  },
  {
   "cell_type": "code",
   "execution_count": 173,
   "id": "da619144",
   "metadata": {},
   "outputs": [],
   "source": [
    "def angulo(R,T):\n",
    "    xmin=0\n",
    "    v0 = [xmin - T[0], 0 - T[1]]\n",
    "    v1 = [R[0] - xmin, R[1]]\n",
    "    alpha0 = math.atan2(v0[1], v0[0]) - math.asin(v0[1] / norm(v0))\n",
    "    alpha1 = math.asin(n_0 / n_1 * math.sin(alpha0))\n",
    "   \n",
    "    \n",
    "    return (alpha0,alpha1)"
   ]
  },
  {
   "cell_type": "code",
   "execution_count": 174,
   "id": "61682e03",
   "metadata": {},
   "outputs": [
    {
     "data": {
      "text/plain": [
       "(1.1102230246251565e-16, 8.347541538535011e-17)"
      ]
     },
     "execution_count": 174,
     "metadata": {},
     "output_type": "execute_result"
    }
   ],
   "source": [
    "angulo(R,T)"
   ]
  },
  {
   "cell_type": "code",
   "execution_count": 180,
   "id": "c5cc0922",
   "metadata": {},
   "outputs": [],
   "source": [
    "def Snell(R,T):\n",
    "    \n",
    "    \n",
    "    angulos=angulo(R,T)\n",
    "    v1=np.sin(angulos[0])\n",
    " \n",
    "    v0=np.sin(angulos[1])\n",
    "    print(v0)\n",
    "    result=v0/v1\n",
    "    l=n_0/n_1\n",
    "  \n",
    "    return result\n",
    "    "
   ]
  },
  {
   "cell_type": "code",
   "execution_count": 181,
   "id": "d9a3ec85",
   "metadata": {},
   "outputs": [
    {
     "name": "stdout",
     "output_type": "stream",
     "text": [
      "8.347541538535011e-17\n"
     ]
    },
    {
     "data": {
      "text/plain": [
       "0.7518796992481203"
      ]
     },
     "execution_count": 181,
     "metadata": {},
     "output_type": "execute_result"
    }
   ],
   "source": [
    "Snell(R,T)"
   ]
  }
 ],
 "metadata": {
  "kernelspec": {
   "display_name": "Python 3 (ipykernel)",
   "language": "python",
   "name": "python3"
  },
  "language_info": {
   "codemirror_mode": {
    "name": "ipython",
    "version": 3
   },
   "file_extension": ".py",
   "mimetype": "text/x-python",
   "name": "python",
   "nbconvert_exporter": "python",
   "pygments_lexer": "ipython3",
   "version": "3.9.7"
  }
 },
 "nbformat": 4,
 "nbformat_minor": 5
}
