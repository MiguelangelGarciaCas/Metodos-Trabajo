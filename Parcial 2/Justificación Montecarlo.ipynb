{
 "cells": [
  {
   "cell_type": "markdown",
   "id": "e61eb918",
   "metadata": {},
   "source": [
    "La simetria de la esfera es uniforme en cualquier punto porque la densidad es igualmente uniforme para toda la esfera. Así que la rotación sea por donde sea va a rotar de la misma manera. Asimismo, el producto de inercia entre los 3 puntos va a ser igual por la uniformidad de la esfera y de su densidad que es igual a 0 "
   ]
  },
  {
   "cell_type": "code",
   "execution_count": null,
   "id": "cc7b1a33",
   "metadata": {},
   "outputs": [],
   "source": []
  }
 ],
 "metadata": {
  "kernelspec": {
   "display_name": "Python 3 (ipykernel)",
   "language": "python",
   "name": "python3"
  },
  "language_info": {
   "codemirror_mode": {
    "name": "ipython",
    "version": 3
   },
   "file_extension": ".py",
   "mimetype": "text/x-python",
   "name": "python",
   "nbconvert_exporter": "python",
   "pygments_lexer": "ipython3",
   "version": "3.9.13"
  }
 },
 "nbformat": 4,
 "nbformat_minor": 5
}
