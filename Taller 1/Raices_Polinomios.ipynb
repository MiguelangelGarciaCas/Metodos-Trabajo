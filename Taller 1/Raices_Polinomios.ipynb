{
 "cells": [
  {
   "cell_type": "code",
   "execution_count": 1,
   "id": "06eda780",
   "metadata": {},
   "outputs": [],
   "source": [
    "import numpy as np"
   ]
  },
  {
   "cell_type": "code",
   "execution_count": 2,
   "id": "66ccb7ab",
   "metadata": {},
   "outputs": [
    {
     "name": "stdout",
     "output_type": "stream",
     "text": [
      "Raíces reales: [-1.8471271  0.1804604 -0.       ]\n"
     ]
    }
   ],
   "source": [
    "def f(x):\n",
    "    return 3*x**5 + 5*x**4 - x**3\n",
    "\n",
    "def f_prime(f,x,h=1e-7):\n",
    "    return (f(x+h)-f(x-h))/(2*h)\n",
    "\n",
    "def newton_raphson(x0, tol, max_iter):\n",
    "    x = x0\n",
    "    for i in range(max_iter):\n",
    "        x_next = x - f(x) / f_prime(f,x)\n",
    "        if np.abs(x_next - x) < tol:\n",
    "            return x_next\n",
    "        x = x_next\n",
    "    return None\n",
    "\n",
    "x0 = np.linspace(-2, 2, 100)\n",
    "\n",
    "roots = []\n",
    "for x in x0:\n",
    "    root = round(newton_raphson(x, 1e-10, 100),7)\n",
    "    \n",
    "    if (root is not None) and (root not in roots):\n",
    "        roots.append(root)\n",
    "        \n",
    "roots = np.array(roots)\n",
    "print(\"Raíces reales:\", roots)"
   ]
  },
  {
   "cell_type": "code",
   "execution_count": null,
   "id": "1fc9caa5",
   "metadata": {},
   "outputs": [],
   "source": []
  }
 ],
 "metadata": {
  "kernelspec": {
   "display_name": "Python 3 (ipykernel)",
   "language": "python",
   "name": "python3"
  },
  "language_info": {
   "codemirror_mode": {
    "name": "ipython",
    "version": 3
   },
   "file_extension": ".py",
   "mimetype": "text/x-python",
   "name": "python",
   "nbconvert_exporter": "python",
   "pygments_lexer": "ipython3",
   "version": "3.9.7"
  }
 },
 "nbformat": 4,
 "nbformat_minor": 5
}
