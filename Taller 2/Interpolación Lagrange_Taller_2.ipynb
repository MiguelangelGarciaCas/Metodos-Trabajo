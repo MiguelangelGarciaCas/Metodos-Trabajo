{
 "cells": [
  {
   "cell_type": "code",
   "execution_count": null,
   "id": "e5ca4528",
   "metadata": {},
   "outputs": [],
   "source": []
  },
  {
   "cell_type": "code",
   "execution_count": 700,
   "id": "20674c53",
   "metadata": {},
   "outputs": [],
   "source": [
    "import numpy as np\n",
    "import math\n",
    "import matplotlib.pyplot as plt\n",
    "from matplotlib import rc\n",
    "import pandas as pd\n",
    "import sympy as sym\n",
    "import os.path as path\n",
    "import os\n",
    "import urllib.request\n",
    "import wget"
   ]
  },
  {
   "cell_type": "markdown",
   "id": "f96020e5",
   "metadata": {},
   "source": [
    "# Interpoación de Lagrange"
   ]
  },
  {
   "cell_type": "markdown",
   "id": "1e32681e",
   "metadata": {},
   "source": [
    "# Punto 4"
   ]
  },
  {
   "cell_type": "code",
   "execution_count": 344,
   "id": "d1a62ac5",
   "metadata": {},
   "outputs": [],
   "source": [
    "if not path.exists('Data'):\n",
    "    os.mkdir('Data')\n",
    "    \n",
    "file = 'Data/Parabolico.csv'\n",
    "url ='https://raw.githubusercontent.com/asegura4488/Database/main/MetodosComputacionalesReforma/Parabolico.csv'\n",
    "\n",
    "if not path.exists(file):\n",
    "    Path_ = wget.download(url,file)\n",
    "    \n",
    "else:\n",
    "    Path_ = file"
   ]
  },
  {
   "cell_type": "code",
   "execution_count": 4,
   "id": "c4dff08e",
   "metadata": {},
   "outputs": [],
   "source": [
    "#url ='https://raw.githubusercontent.com/asegura4488/Database/main/MetodosComputacionalesReforma/Parabolico.csv'"
   ]
  },
  {
   "cell_type": "code",
   "execution_count": 5,
   "id": "9198d60e",
   "metadata": {},
   "outputs": [],
   "source": [
    "#filename='Data/Parabolico.csv'"
   ]
  },
  {
   "cell_type": "code",
   "execution_count": 6,
   "id": "66da4daa",
   "metadata": {},
   "outputs": [
    {
     "data": {
      "text/html": [
       "<div>\n",
       "<style scoped>\n",
       "    .dataframe tbody tr th:only-of-type {\n",
       "        vertical-align: middle;\n",
       "    }\n",
       "\n",
       "    .dataframe tbody tr th {\n",
       "        vertical-align: top;\n",
       "    }\n",
       "\n",
       "    .dataframe thead th {\n",
       "        text-align: right;\n",
       "    }\n",
       "</style>\n",
       "<table border=\"1\" class=\"dataframe\">\n",
       "  <thead>\n",
       "    <tr style=\"text-align: right;\">\n",
       "      <th></th>\n",
       "      <th>X</th>\n",
       "      <th>Y</th>\n",
       "    </tr>\n",
       "  </thead>\n",
       "  <tbody>\n",
       "    <tr>\n",
       "      <th>0</th>\n",
       "      <td>1.4</td>\n",
       "      <td>0.400795</td>\n",
       "    </tr>\n",
       "    <tr>\n",
       "      <th>1</th>\n",
       "      <td>3.5</td>\n",
       "      <td>0.594128</td>\n",
       "    </tr>\n",
       "    <tr>\n",
       "      <th>2</th>\n",
       "      <td>5.6</td>\n",
       "      <td>0.298028</td>\n",
       "    </tr>\n",
       "  </tbody>\n",
       "</table>\n",
       "</div>"
      ],
      "text/plain": [
       "     X         Y\n",
       "0  1.4  0.400795\n",
       "1  3.5  0.594128\n",
       "2  5.6  0.298028"
      ]
     },
     "execution_count": 6,
     "metadata": {},
     "output_type": "execute_result"
    }
   ],
   "source": [
    "Data = pd.read_csv(Path_)\n",
    "Data"
   ]
  },
  {
   "cell_type": "code",
   "execution_count": 7,
   "id": "9ff24ded",
   "metadata": {},
   "outputs": [
    {
     "name": "stdout",
     "output_type": "stream",
     "text": [
      "[1.4 3.5 5.6] [0.40079549 0.5941281  0.29802796]\n"
     ]
    }
   ],
   "source": [
    "X = np.float64(Data.X)\n",
    "Y = np.float64(Data.Y)\n",
    "print(X,Y)"
   ]
  },
  {
   "cell_type": "code",
   "execution_count": 8,
   "id": "bb383b63",
   "metadata": {},
   "outputs": [
    {
     "data": {
      "text/plain": [
       "array([[ 0.40079549,  0.        ,  0.        ],\n",
       "       [ 0.5941281 ,  0.19333261,  0.        ],\n",
       "       [ 0.29802796, -0.29610015, -0.48943276]])"
      ]
     },
     "execution_count": 8,
     "metadata": {},
     "output_type": "execute_result"
    }
   ],
   "source": [
    "Diff = np.zeros((len(X),len(X)))\n",
    "Diff[:,0] = Y\n",
    "Diff\n",
    "\n",
    "for i in range(1,len(X)):\n",
    "    for j in range(i,len(X)):\n",
    "        Diff[j,i] = Diff[j,i-1] - Diff[j-1,i-1]\n",
    "Diff"
   ]
  },
  {
   "cell_type": "code",
   "execution_count": 63,
   "id": "b0412ae5",
   "metadata": {},
   "outputs": [],
   "source": [
    "def Lagrange(x,xi,j):\n",
    "    \n",
    "    prod = 1.0\n",
    "    n = len(xi)\n",
    "    \n",
    "    for i in range(n):\n",
    "        if i != j:\n",
    "            prod *= (x - xi[i])/(xi[j]-xi[i])\n",
    "            \n",
    "    return prod"
   ]
  },
  {
   "cell_type": "code",
   "execution_count": 64,
   "id": "dbd3ca5c",
   "metadata": {},
   "outputs": [],
   "source": [
    "def Interpolate(x,xi,yi):\n",
    "    \n",
    "    Sum = 0.\n",
    "    n = len(xi)\n",
    "    \n",
    "    for j in range(n):\n",
    "        Sum += yi[j]*Lagrange(x,xi,j)\n",
    "        \n",
    "    return Sum"
   ]
  },
  {
   "cell_type": "code",
   "execution_count": 140,
   "id": "934f6ca0",
   "metadata": {},
   "outputs": [],
   "source": [
    "x = np.linspace(X[0],X[-1],100)\n",
    "y = Interpolate(x,X,Y)\n"
   ]
  },
  {
   "cell_type": "code",
   "execution_count": 141,
   "id": "29543225",
   "metadata": {},
   "outputs": [
    {
     "data": {
      "text/plain": [
       "[<matplotlib.lines.Line2D at 0x1a4bf438f10>]"
      ]
     },
     "execution_count": 141,
     "metadata": {},
     "output_type": "execute_result"
    },
    {
     "data": {
      "image/png": "[encoded data removed]",
      "text/plain": [
       "<Figure size 432x288 with 1 Axes>"
      ]
     },
     "metadata": {
      "needs_background": "light"
     },
     "output_type": "display_data"
    }
   ],
   "source": [
    "plt.scatter(X,Y,color='r',marker='o')\n",
    "plt.plot(xt,yt)"
   ]
  },
  {
   "cell_type": "code",
   "execution_count": 143,
   "id": "2acdeaf8",
   "metadata": {},
   "outputs": [],
   "source": [
    "x = sym.Symbol('x',real=True)"
   ]
  },
  {
   "cell_type": "code",
   "execution_count": 249,
   "id": "e455c801",
   "metadata": {},
   "outputs": [
    {
     "data": {
      "text/latex": [
       "$\\displaystyle 0.400795493181974 \\left(1.33333333333333 - 0.238095238095238 x\\right) \\left(1.66666666666667 - 0.476190476190476 x\\right) + 0.594128102489774 \\left(2.66666666666667 - 0.476190476190476 x\\right) \\left(0.476190476190476 x - 0.666666666666667\\right) + 0.298027955239382 \\left(0.238095238095238 x - 0.333333333333333\\right) \\left(0.476190476190476 x - 1.66666666666667\\right)$"
      ],
      "text/plain": [
       "0.400795493181974*(1.33333333333333 - 0.238095238095238*x)*(1.66666666666667 - 0.476190476190476*x) + 0.594128102489774*(2.66666666666667 - 0.476190476190476*x)*(0.476190476190476*x - 0.666666666666667) + 0.298027955239382*(0.238095238095238*x - 0.333333333333333)*(0.476190476190476*x - 1.66666666666667)"
      ]
     },
     "execution_count": 249,
     "metadata": {},
     "output_type": "execute_result"
    }
   ],
   "source": [
    "y = Interpolate(x,X,Y)\n",
    "y"
   ]
  },
  {
   "cell_type": "code",
   "execution_count": 323,
   "id": "b4a38625",
   "metadata": {},
   "outputs": [
    {
     "name": "stdout",
     "output_type": "stream",
     "text": [
      "<class 'sympy.core.mul.Mul'>\n"
     ]
    },
    {
     "data": {
      "text/latex": [
       "$\\displaystyle x \\left(0.363970234266202 - 0.0554912422401579 x\\right)$"
      ],
      "text/plain": [
       "x*(0.363970234266202 - 0.0554912422401579*x)"
      ]
     },
     "execution_count": 323,
     "metadata": {},
     "output_type": "execute_result"
    }
   ],
   "source": [
    "r = sym.simplify(y)\n",
    "print(type(r))\n",
    "r"
   ]
  },
  {
   "cell_type": "code",
   "execution_count": 324,
   "id": "fb121fc7",
   "metadata": {},
   "outputs": [
    {
     "name": "stdout",
     "output_type": "stream",
     "text": [
      "0.363970234266202 - 0.110982484480316*x\n"
     ]
    }
   ],
   "source": [
    "#print(x)\n",
    "d=sym.diff(r)\n",
    "print(d)\n",
    "x_maxy=sym.solve(d,x)\n"
   ]
  },
  {
   "cell_type": "code",
   "execution_count": 325,
   "id": "bbbe68f2",
   "metadata": {},
   "outputs": [
    {
     "name": "stdout",
     "output_type": "stream",
     "text": [
      "3.27952862084968 0.596825400206688\n"
     ]
    }
   ],
   "source": [
    "#for ih=r\n",
    "func = sym.lambdify([x],r,'numpy')\n",
    "#print(type(x))\n",
    "x_maxy=x_maxy[0]\n",
    "y_max=(func(x_maxy))\n",
    "print(x_maxy,y_max)\n",
    "#np.roots(r)"
   ]
  },
  {
   "cell_type": "code",
   "execution_count": 360,
   "id": "050b382f",
   "metadata": {},
   "outputs": [
    {
     "name": "stdout",
     "output_type": "stream",
     "text": [
      "0.3490001462506821\n",
      "9.39692620785907 3.420201433256685\n"
     ]
    }
   ],
   "source": [
    "g=-9.8\n",
    "\n",
    "t=math.sqrt(-2*y_max/g)\n",
    "print(t)\n",
    "vx=(x_maxy)/t\n",
    "vy=-g*t\n",
    "t_O=X[0]/vx\n",
    "\n",
    "print(vx,vy)"
   ]
  },
  {
   "cell_type": "code",
   "execution_count": 361,
   "id": "797c8072",
   "metadata": {},
   "outputs": [
    {
     "name": "stdout",
     "output_type": "stream",
     "text": [
      "Velocidad_Inicial\n",
      "9.999999999999984\n"
     ]
    }
   ],
   "source": [
    "v_r=vx**2+vy**2\n",
    "v=np.array(math.sqrt(v_r))\n",
    "print('Velocidad_Inicial')\n",
    "print(v)"
   ]
  },
  {
   "cell_type": "code",
   "execution_count": 362,
   "id": "da4750ad",
   "metadata": {},
   "outputs": [
    {
     "data": {
      "text/plain": [
       "20.000000000000018"
      ]
     },
     "execution_count": 362,
     "metadata": {},
     "output_type": "execute_result"
    }
   ],
   "source": [
    "valor=math.atan(vy/vx)*180/np.pi\n",
    "valor"
   ]
  },
  {
   "cell_type": "markdown",
   "id": "cabda851",
   "metadata": {},
   "source": [
    "# Punto 5"
   ]
  },
  {
   "cell_type": "code",
   "execution_count": 703,
   "id": "9ff2daba",
   "metadata": {},
   "outputs": [],
   "source": [
    "if not path.exists('Data'):\n",
    "    os.mkdir('Data')\n",
    "    \n",
    "file = 'Data/Newton_Gregory.csv'\n",
    "url ='https://raw.githubusercontent.com/asegura4488/Database/main/MetodosComputacionalesReforma/InterpolacionNewtonNoequi.csv'\n",
    "if not path.exists(file):\n",
    "    arch = wget.download(url,file)\n",
    "    \n",
    "else:\n",
    "    arch = file"
   ]
  },
  {
   "cell_type": "code",
   "execution_count": 704,
   "id": "4249626f",
   "metadata": {},
   "outputs": [
    {
     "data": {
      "text/html": [
       "<div>\n",
       "<style scoped>\n",
       "    .dataframe tbody tr th:only-of-type {\n",
       "        vertical-align: middle;\n",
       "    }\n",
       "\n",
       "    .dataframe tbody tr th {\n",
       "        vertical-align: top;\n",
       "    }\n",
       "\n",
       "    .dataframe thead th {\n",
       "        text-align: right;\n",
       "    }\n",
       "</style>\n",
       "<table border=\"1\" class=\"dataframe\">\n",
       "  <thead>\n",
       "    <tr style=\"text-align: right;\">\n",
       "      <th></th>\n",
       "      <th>X</th>\n",
       "      <th>Y</th>\n",
       "    </tr>\n",
       "  </thead>\n",
       "  <tbody>\n",
       "    <tr>\n",
       "      <th>0</th>\n",
       "      <td>0.0</td>\n",
       "      <td>-18</td>\n",
       "    </tr>\n",
       "    <tr>\n",
       "      <th>1</th>\n",
       "      <td>1.5</td>\n",
       "      <td>-13</td>\n",
       "    </tr>\n",
       "    <tr>\n",
       "      <th>2</th>\n",
       "      <td>2.0</td>\n",
       "      <td>0</td>\n",
       "    </tr>\n",
       "    <tr>\n",
       "      <th>3</th>\n",
       "      <td>3.8</td>\n",
       "      <td>5</td>\n",
       "    </tr>\n",
       "    <tr>\n",
       "      <th>4</th>\n",
       "      <td>4.2</td>\n",
       "      <td>3</td>\n",
       "    </tr>\n",
       "    <tr>\n",
       "      <th>5</th>\n",
       "      <td>5.9</td>\n",
       "      <td>10</td>\n",
       "    </tr>\n",
       "  </tbody>\n",
       "</table>\n",
       "</div>"
      ],
      "text/plain": [
       "     X   Y\n",
       "0  0.0 -18\n",
       "1  1.5 -13\n",
       "2  2.0   0\n",
       "3  3.8   5\n",
       "4  4.2   3\n",
       "5  5.9  10"
      ]
     },
     "execution_count": 704,
     "metadata": {},
     "output_type": "execute_result"
    }
   ],
   "source": [
    "Datos = pd.read_csv(arch)\n",
    "Datos"
   ]
  },
  {
   "cell_type": "code",
   "execution_count": 705,
   "id": "ffe8c148",
   "metadata": {},
   "outputs": [
    {
     "name": "stdout",
     "output_type": "stream",
     "text": [
      "[0.  1.5 2.  3.8 4.2 5.9] [-18. -13.   0.   5.   3.  10.]\n"
     ]
    }
   ],
   "source": [
    "X = np.float64(Datos.X)\n",
    "Y = np.float64(Datos.Y)\n",
    "print(X,Y)"
   ]
  },
  {
   "cell_type": "code",
   "execution_count": null,
   "id": "66c8f890",
   "metadata": {},
   "outputs": [],
   "source": []
  },
  {
   "cell_type": "code",
   "execution_count": 706,
   "id": "d34bcb71",
   "metadata": {},
   "outputs": [
    {
     "data": {
      "text/plain": [
       "<matplotlib.collections.PathCollection at 0x1a4c3ca5550>"
      ]
     },
     "execution_count": 706,
     "metadata": {},
     "output_type": "execute_result"
    },
    {
     "data": {
      "image/png": "[encoded data removed]",
      "text/plain": [
       "<Figure size 432x288 with 1 Axes>"
      ]
     },
     "metadata": {
      "needs_background": "light"
     },
     "output_type": "display_data"
    }
   ],
   "source": [
    "plt.scatter(X,Y,color='r',marker='o')"
   ]
  },
  {
   "cell_type": "code",
   "execution_count": null,
   "id": "24e6b3ac",
   "metadata": {},
   "outputs": [],
   "source": []
  },
  {
   "cell_type": "code",
   "execution_count": null,
   "id": "6694914f",
   "metadata": {},
   "outputs": [],
   "source": []
  },
  {
   "cell_type": "code",
   "execution_count": 707,
   "id": "58b093f7",
   "metadata": {},
   "outputs": [
    {
     "name": "stdout",
     "output_type": "stream",
     "text": [
      "-18.0\n",
      "3.3333333333333335\n",
      "11.333333333333334\n",
      "-5.639460971268751\n",
      "1.9213235841763683\n",
      "-0.34145435774264016\n"
     ]
    },
    {
     "data": {
      "text/plain": [
       "array([[-18.        ,   0.        ,   0.        ,   0.        ,\n",
       "          0.        ,   0.        ],\n",
       "       [-13.        ,   3.33333333,   0.        ,   0.        ,\n",
       "          0.        ,   0.        ],\n",
       "       [  0.        ,  26.        ,  11.33333333,   0.        ,\n",
       "          0.        ,   0.        ],\n",
       "       [  5.        ,   2.77777778, -10.09661836,  -5.63946097,\n",
       "          0.        ,   0.        ],\n",
       "       [  3.        ,  -5.        ,  -3.53535354,   2.43009808,\n",
       "          1.92132358,   0.        ],\n",
       "       [ 10.        ,   4.11764706,   4.34173669,   2.01976673,\n",
       "         -0.09325713,  -0.34145436]])"
      ]
     },
     "execution_count": 707,
     "metadata": {},
     "output_type": "execute_result"
    }
   ],
   "source": [
    "Diff = np.zeros((len(X),len(X)))\n",
    "Diff[:,0] = Y\n",
    "print(Diff[0,0])\n",
    "\n",
    "for i in range(1,len(X)):\n",
    "    for j in range(i,len(X)):\n",
    "        Diff[j,i] =( Diff[j,i-1] - Diff[j-1,i-1])/(X[j] - X[j-i])\n",
    "    print(Diff[i,i])\n",
    "Diff"
   ]
  },
  {
   "cell_type": "code",
   "execution_count": null,
   "id": "311f7f96",
   "metadata": {},
   "outputs": [],
   "source": []
  },
  {
   "cell_type": "code",
   "execution_count": 711,
   "id": "f583d0b7",
   "metadata": {},
   "outputs": [],
   "source": [
    "def NewtonInterpolation(X,Y,x):\n",
    "    \n",
    "    sum_ = Y[0]\n",
    "    \n",
    "    Diff = np.zeros((len(X),len(X)))\n",
    "    h = X[1] - X[0]\n",
    "    \n",
    "    Diff[:,0] = Y\n",
    "    \n",
    "    poly = 1.0\n",
    "    for i in range(1,len(X)):\n",
    "        #print(i)\n",
    "        poly *= (x - X[i-1])\n",
    "       \n",
    "        for j in range(i,len(X)): \n",
    "            \n",
    "            Diff[j,i] =( Diff[j,i-1] - Diff[j-1,i-1])/(X[j] - X[j-i])\n",
    "            \n",
    "        sum_ += (poly*Diff[i,i])\n",
    "    return sum_"
   ]
  },
  {
   "cell_type": "code",
   "execution_count": 712,
   "id": "115c3a75",
   "metadata": {},
   "outputs": [],
   "source": [
    "xt = np.linspace(X[0],X[-1],100)\n",
    "#print(xt)\n",
    "yt = []\n",
    "\n",
    "for i in range(len(xt)):\n",
    "    yt.append(NewtonInterpolation(X,Y,xt[i]))\n",
    "#print(yt)"
   ]
  },
  {
   "cell_type": "code",
   "execution_count": 713,
   "id": "af3cc133",
   "metadata": {},
   "outputs": [
    {
     "data": {
      "text/plain": [
       "[<matplotlib.lines.Line2D at 0x1a4c3d78b50>]"
      ]
     },
     "execution_count": 713,
     "metadata": {},
     "output_type": "execute_result"
    },
    {
     "data": {
      "image/png": "[encoded data removed]",
      "text/plain": [
       "<Figure size 432x288 with 1 Axes>"
      ]
     },
     "metadata": {
      "needs_background": "light"
     },
     "output_type": "display_data"
    }
   ],
   "source": [
    "plt.scatter(X,Y,color='r',marker='o')\n",
    "plt.plot(xt,yt)"
   ]
  },
  {
   "cell_type": "code",
   "execution_count": null,
   "id": "1e6e3ef9",
   "metadata": {},
   "outputs": [],
   "source": []
  },
  {
   "cell_type": "code",
   "execution_count": null,
   "id": "2d6be8e6",
   "metadata": {},
   "outputs": [],
   "source": []
  }
 ],
 "metadata": {
  "kernelspec": {
   "display_name": "Python 3 (ipykernel)",
   "language": "python",
   "name": "python3"
  },
  "language_info": {
   "codemirror_mode": {
    "name": "ipython",
    "version": 3
   },
   "file_extension": ".py",
   "mimetype": "text/x-python",
   "name": "python",
   "nbconvert_exporter": "python",
   "pygments_lexer": "ipython3",
   "version": "3.9.7"
  }
 },
 "nbformat": 4,
 "nbformat_minor": 5
}
