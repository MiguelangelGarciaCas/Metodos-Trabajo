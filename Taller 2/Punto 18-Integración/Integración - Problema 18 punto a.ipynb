{
 "cells": [
  {
   "cell_type": "code",
   "execution_count": 12,
   "id": "e7eb42f7",
   "metadata": {},
   "outputs": [
    {
     "name": "stdout",
     "output_type": "stream",
     "text": [
      "Ceros de los polinomios de Hermite:\n",
      "[-5.38748089 -4.60368245 -3.94476404 -3.34785457 -2.78880606 -2.254974\n",
      " -1.73853771 -1.23407622 -0.73747373 -0.24534071  0.24534071  0.73747373\n",
      "  1.23407622  1.73853771  2.254974    2.78880606  3.34785457  3.94476404\n",
      "  4.60368245  5.38748089]\n",
      "Pesos de la cuadratura de Gauss-Hermite:\n",
      "[2.22939365e-13 4.39934099e-10 1.08606937e-07 7.80255648e-06\n",
      " 2.28338636e-04 3.24377334e-03 2.48105209e-02 1.09017206e-01\n",
      " 2.86675505e-01 4.62243670e-01 4.62243670e-01 2.86675505e-01\n",
      " 1.09017206e-01 2.48105209e-02 3.24377334e-03 2.28338636e-04\n",
      " 7.80255648e-06 1.08606937e-07 4.39934099e-10 2.22939365e-13]\n"
     ]
    }
   ],
   "source": [
    "import numpy as np\n",
    "import scipy.integrate as sym\n",
    "\n",
    "def hermite(n, x):\n",
    "    if n == 0:\n",
    "        return 1\n",
    "    elif n == 1:\n",
    "        return 2*x\n",
    "    else:\n",
    "        return 2*x*hermite(n-1,x) - 2*(n-1)*hermite(n-2,x)\n",
    "\n",
    "def gauss_hermite(f, n):\n",
    "    z, w = np.polynomial.hermite.hermgauss(n)\n",
    "    integrand = lambda x: f(x) * np.exp(-x**2)\n",
    "    result, _ = sym.quad(integrand, 0, np.inf)\n",
    "    result *= np.sum(w * np.exp(z**2))\n",
    "\n",
    "    return result\n",
    "\n",
    "n = 20\n",
    "zeros, weights = np.polynomial.hermite.hermgauss(n)\n",
    "\n",
    "print(\"Ceros de los polinomios de Hermite:\")\n",
    "print(zeros)\n",
    "print(\"Pesos de la cuadratura de Gauss-Hermite:\")\n",
    "print(weights)"
   ]
  },
  {
   "cell_type": "code",
   "execution_count": null,
   "id": "12701bad",
   "metadata": {},
   "outputs": [],
   "source": []
  }
 ],
 "metadata": {
  "kernelspec": {
   "display_name": "Python 3 (ipykernel)",
   "language": "python",
   "name": "python3"
  },
  "language_info": {
   "codemirror_mode": {
    "name": "ipython",
    "version": 3
   },
   "file_extension": ".py",
   "mimetype": "text/x-python",
   "name": "python",
   "nbconvert_exporter": "python",
   "pygments_lexer": "ipython3",
   "version": "3.9.13"
  }
 },
 "nbformat": 4,
 "nbformat_minor": 5
}
