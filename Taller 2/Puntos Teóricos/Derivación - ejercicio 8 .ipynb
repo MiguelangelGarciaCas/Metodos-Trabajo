{
 "cells": [
  {
   "cell_type": "markdown",
   "id": "c09ec095",
   "metadata": {},
   "source": [
    "$$ L(x) = \\sum_{i=0}^n y_i \\cdot l_i(x) $$\n",
    "\n",
    "donde $l_i(x)$ son los polinomios de Lagrange, definidos como:\n",
    "\n",
    "$$ l_i(x) = \\prod_{j=0, j\\neq i}^n \\frac{x - x_j}{x_i - x_j} $$\n",
    "\n",
    "Entonces, el polinomio interpolante completo es:\n",
    "\n",
    "$$ L(x) = y_0 \\cdot l_0(x) + y_1 \\cdot l_1(x) + \\cdots + y_n \\cdot l_n(x) $$\n",
    "\n",
    "donde:\n",
    "\n",
    "$$ l_i(x) = \\prod_{j=0, j\\neq i}^n \\frac{x - x_j}{x_i - x_j} $$"
   ]
  },
  {
   "cell_type": "code",
   "execution_count": null,
   "id": "1795c64a",
   "metadata": {},
   "outputs": [],
   "source": []
  },
  {
   "cell_type": "markdown",
   "id": "8e992df3",
   "metadata": {},
   "source": [
    " El polinomio interpolante de Lagrange para estos tres puntos es:\n",
    "\n",
    "$$ L(x) = f(x_0)\\cdot l_0(x) + f(x_1)\\cdot l_1(x) + f(x_2)\\cdot l_2(x) $$\n",
    "\n",
    "donde:\n",
    "\n",
    "$$ l_0(x) = \\frac{(x-x_1)(x-x_2)}{(x_0-x_1)(x_0-x_2)} $$\n",
    "\n",
    "$$ l_1(x) = \\frac{(x-x_0)(x-x_2)}{(x_1-x_0)(x_1-x_2)} $$\n",
    "\n",
    "$$ l_2(x) = \\frac{(x-x_0)(x-x_1)}{(x_2-x_0)(x_2-x_1)} $$\n",
    "\n",
    "Derivamos el polinomio interpolador $L(x)$ y evaluarla en $x_0$:\n",
    "\n",
    "$$ L'(x) = f(x_0)\\cdot l'_0(x) + f(x_1)\\cdot l'_1(x) + f(x_2)\\cdot l'_2(x) $$\n",
    "\n",
    "donde:\n",
    "\n",
    "$$ l'_0(x) = \\frac{2x - x_1 - x_2}{(x_0-x_1)(x_0-x_2)} $$\n",
    "\n",
    "$$ l'_1(x) = \\frac{2x - x_0 - x_2}{(x_1-x_0)(x_1-x_2)} $$\n",
    "\n",
    "$$ l'_2(x) = \\frac{2x - x_0 - x_1}{(x_2-x_0)(x_2-x_1)} $$\n",
    "\n",
    "Por lo tanto, la aproximación de la derivada de $f(x)$ en $x_0$ es:\n",
    "\n",
    "$$ f'(x_0) \\approx p'(x_0) = L'(x_0) = f(x_0)\\cdot l'_0(x_0) + f(x_1)\\cdot l'_1(x_0) + f(x_2)\\cdot l'_2(x_0) $$\n",
    "\n",
    "Evaluando las fórmulas para $l'_0(x_0)$, $l'_1(x_0)$, y $l'_2(x_0)$ en $x_0$:\n",
    "\n",
    "$$ f'(x_0) \\approx p'(x_0) = \\frac{1}{2h}(-3f(x_0) + 4f(x_1) - f(x_2)) $$\n",
    "\n",
    "Si la discretización es equidistante, entonces podemos escribir la aproximación como:\n",
    "\n",
    "$$ f'(x) \\approx \\frac{1}{2h}(-3f(x) + 4f(x+h) - f(x+2h)) $$"
   ]
  },
  {
   "cell_type": "code",
   "execution_count": null,
   "id": "0aef6077",
   "metadata": {},
   "outputs": [],
   "source": []
  }
 ],
 "metadata": {
  "kernelspec": {
   "display_name": "Python 3 (ipykernel)",
   "language": "python",
   "name": "python3"
  },
  "language_info": {
   "codemirror_mode": {
    "name": "ipython",
    "version": 3
   },
   "file_extension": ".py",
   "mimetype": "text/x-python",
   "name": "python",
   "nbconvert_exporter": "python",
   "pygments_lexer": "ipython3",
   "version": "3.9.13"
  }
 },
 "nbformat": 4,
 "nbformat_minor": 5
}
