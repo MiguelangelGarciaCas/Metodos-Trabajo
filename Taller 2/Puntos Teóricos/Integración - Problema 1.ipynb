{
 "cells": [
  {
   "cell_type": "markdown",
   "id": "d4e36f7b",
   "metadata": {},
   "source": [
    "Supongamos que hay dos polinomios interpoladores, $p(x)$ y $q(x)$, tales que para un conjunto de puntos $x_0,x_1,...,x_n$ se cumple:\n",
    "\n",
    "$$p(x_i) = q(x_i) \\qquad \\forall i \\in {0,1,...,n}$$\n",
    "\n",
    "Definamos el polinomio $r(x) = p(x) - q(x)$. Entonces:\n",
    "\n",
    "$$r(x_i) = p(x_i) - q(x_i) = 0 \\qquad \\forall i \\in {0,1,...,n}$$\n",
    "\n",
    "Lo que significa que $r(x)$ tiene $n+1$ raíces, es decir, es un polinomio de grado $n$ con $n+1$ raíces distintas. Pero un polinomio de grado $n$ con $n+1$ raíces distintas debe ser el polinomio nulo, es decir, $r(x) = 0$. Por lo tanto, $p(x) = q(x)$ y el polinomio interpolador de Lagrange es único."
   ]
  },
  {
   "cell_type": "markdown",
   "id": "3ca71393",
   "metadata": {},
   "source": [
    " La regla de trapecio simple se obtiene al usar un polinomio interpolador de primer grado (una recta) para aproximar la función $f(x)$ en el intervalo $[a,b]$ y luego integrar esta recta. El polinomio interpolador de primer grado que pasa por los puntos $(a,f(a))$ y $(b,f(b))$ es:\n",
    "\n",
    "$$p_1(x) = f(a) + \\frac{f(b)-f(a)}{b-a}(x-a)$$\n",
    "\n",
    "La integral de este polinomio sobre el intervalo $[a,b]$ es:\n",
    "\n",
    "$$\\int_a^b p_1(x)dx = \\int_a^b \\left( f(a) + \\frac{f(b)-f(a)}{b-a}(x-a) \\right) dx $$\n",
    "\n",
    "Integrando, se tiene:\n",
    "\n",
    "\\begin{align*}\n",
    "\\int_a^b p_1(x)dx &= \\left[ f(a)x + \\frac{f(b)-f(a)}{b-a}\\frac{(x-a)^2}{2} \\right]_a^b \\\n",
    "&= \\left[ f(a)b + \\frac{f(b)-f(a)}{b-a}\\frac{(b-a)^2}{2} - f(a)a - \\frac{f(b)-f(a)}{b-a}\\frac{(a-a)^2}{2} \\right] \\\n",
    "&= \\frac{b-a}{2}(f(a) + f(b))\n",
    "\\end{align*}\n",
    "\n",
    "Por lo tanto, la regla de trapecio simple es:\n",
    "\n",
    "$$\\int_a^b f(x)dx \\approx \\frac{b-a}{2}(f(a) + f(b))$$"
   ]
  },
  {
   "cell_type": "code",
   "execution_count": null,
   "id": "cc91f9f1",
   "metadata": {},
   "outputs": [],
   "source": []
  }
 ],
 "metadata": {
  "kernelspec": {
   "display_name": "Python 3 (ipykernel)",
   "language": "python",
   "name": "python3"
  },
  "language_info": {
   "codemirror_mode": {
    "name": "ipython",
    "version": 3
   },
   "file_extension": ".py",
   "mimetype": "text/x-python",
   "name": "python",
   "nbconvert_exporter": "python",
   "pygments_lexer": "ipython3",
   "version": "3.9.13"
  }
 },
 "nbformat": 4,
 "nbformat_minor": 5
}
