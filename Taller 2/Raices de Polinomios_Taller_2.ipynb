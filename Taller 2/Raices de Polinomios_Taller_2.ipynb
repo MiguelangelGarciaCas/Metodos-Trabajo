{
 "cells": [
  {
   "cell_type": "code",
   "execution_count": 367,
   "id": "7220bcca",
   "metadata": {},
   "outputs": [],
   "source": [
    "import numpy as np\n",
    "import math\n",
    "from math import e\n",
    "import sympy as sym\n",
    "import matplotlib.pyplot as plt\n",
    "from matplotlib import rc"
   ]
  },
  {
   "cell_type": "code",
   "execution_count": 397,
   "id": "bbb74253",
   "metadata": {},
   "outputs": [],
   "source": [
    "import numpy as np\n",
    "import sympy as sym\n",
    "\n",
    "\n",
    "#Punto 1.9.5 Calcular todas las raıces reales de los primeros 20 polinomios de.\n",
    "#LAGUERRE\n",
    "def Laguerre(n):\n",
    "    x= sym.Symbol(\"x\",Real=True)\n",
    "    y= sym.Symbol(\"y\",Real=True)\n",
    "    e=np.e\n",
    "    y= (e**(-x))*(x**n)\n",
    "    \n",
    "    p= ((e**x)/np.math.factorial(n))*sym.diff(y,x,n)\n",
    "    poly=sym.lambdify([x],p,'numpy')\n",
    "    return poly\n",
    "\n",
    "def Derivative(f,x,h=1e-6):\n",
    "    \n",
    "    return (f(x+h)-f(x-h))/(2*h)\n",
    "\n",
    "\n"
   ]
  },
  {
   "cell_type": "code",
   "execution_count": 405,
   "id": "3f7a41d8",
   "metadata": {},
   "outputs": [],
   "source": [
    "def GetNewtonMethod(f,df,xn,itmax=1000,precision=1e-9):\n",
    "    \n",
    "    error = 1\n",
    "    it=0\n",
    "    \n",
    "    while error > precision and it < itmax:\n",
    "        \n",
    "        try:\n",
    "            \n",
    "            xn1 = xn - f(xn)/df(f,xn)\n",
    "            error = np.abs(f(xn)/df(f,xn))\n",
    "            \n",
    "        except ZeroDivisionError:\n",
    "            print('Division por cero')\n",
    "            \n",
    "        xn = xn1\n",
    "        it += 1\n",
    "    \n",
    "    if it == itmax:\n",
    "        return False\n",
    "    else:\n",
    "        return xn"
   ]
  },
  {
   "cell_type": "code",
   "execution_count": 406,
   "id": "c12b6ef4",
   "metadata": {},
   "outputs": [],
   "source": [
    "def GetAllRoots(f,x, tolerancia=5):\n",
    "    Roots = np.array([])\n",
    "    for i in x:\n",
    "        root = GetNewtonMethod(f,Derivative,i)\n",
    "        \n",
    "        if root != False:\n",
    "            \n",
    "            croot = np.round( root, tolerancia )\n",
    "            \n",
    "            if croot not in Roots:\n",
    "                Roots = np.append(Roots,croot)\n",
    "                \n",
    "    Roots.sort()\n",
    "    \n",
    "    return Roots"
   ]
  },
  {
   "cell_type": "code",
   "execution_count": 428,
   "id": "b7aa0e97",
   "metadata": {},
   "outputs": [
    {
     "name": "stdout",
     "output_type": "stream",
     "text": [
      "\n",
      "La raíz del polinomio de Laguerre de grado 1 es: \n",
      "[1.]\n",
      "\n",
      "Las raices de los polinomios de Laguerre de grado 2 son: \n",
      "[0.58579 3.41421]\n",
      "\n",
      "Las raices de los polinomios de Laguerre de grado 3 son: \n",
      "[0.41577 2.29428 6.28995]\n",
      "\n",
      "Las raices de los polinomios de Laguerre de grado 4 son: \n",
      "[0.32255 1.74576 4.53662 9.39507]\n",
      "\n",
      "Las raices de los polinomios de Laguerre de grado 5 son: \n",
      "[ 0.26356  1.4134   3.59643  7.08581 12.6408 ]\n",
      "\n",
      "Las raices de los polinomios de Laguerre de grado 6 son: \n",
      "[ 0.22285  1.18893  2.99274  5.77514  9.83747 15.98287]\n",
      "\n",
      "Las raices de los polinomios de Laguerre de grado 7 son: \n",
      "[ 0.19304  1.02666  2.56788  4.90035  8.18215 12.73418 19.39573]\n",
      "\n",
      "Las raices de los polinomios de Laguerre de grado 8 son: \n",
      "[ 0.17028  0.9037   2.25109  4.2667   7.04591 10.75852 15.74068 22.86313]\n",
      "\n",
      "Las raices de los polinomios de Laguerre de grado 9 son: \n",
      "[ 0.15232  0.80722  2.00514  3.78347  6.20496  9.37299 13.46624 18.8336\n",
      " 26.37407]\n",
      "\n",
      "Las raices de los polinomios de Laguerre de grado 10 son: \n",
      "[ 0.13779  0.72945  1.80834  3.40143  5.5525   8.33015 11.84379 16.27926\n",
      " 21.99659 29.9207 ]\n",
      "\n",
      "Las raices de los polinomios de Laguerre de grado 11 son: \n",
      "[ 0.1258   0.66542  1.64715  3.09114  5.02928  7.50989 10.60595 14.43161\n",
      " 19.17886 25.21771 33.49719]\n",
      "\n",
      "Las raices de los polinomios de Laguerre de grado 12 son: \n",
      "[ 0.11572  0.61176  1.51261  2.83375  4.59923  6.84453  9.62132 13.00605\n",
      " 17.11686 22.15109 28.48797 37.09912]\n",
      "\n",
      "Las raices de los polinomios de Laguerre de grado 13 son: \n",
      "[ 0.10714  0.56613  1.39856  2.6166   4.23885  6.29226  8.815   11.8614\n",
      " 15.51076 19.88464 25.18526 31.80039 40.72301]\n",
      "\n",
      "Las raices de los polinomios de Laguerre de grado 14 son: \n",
      "[ 0.09975  0.52686  1.30063  2.4308   3.9321   5.82554  8.14024 10.9165\n",
      " 14.21081 18.10489 22.72338 28.27298 35.14944 44.36608]\n",
      "\n",
      "Las raices de los polinomios de Laguerre de grado 15 son: \n",
      "[ 0.09331  0.49269  1.2156   2.26995  3.66762  5.42534  7.56592 10.12023\n",
      " 13.13028 16.65441 20.77648 25.62389 31.40752 38.53068 48.02609]\n",
      "\n",
      "Las raices de los polinomios de Laguerre de grado 16 son: \n",
      "[ 0.08765  0.4627   1.14106  2.12928  3.43709  5.07802  7.07034  9.43831\n",
      " 12.21422 15.44153 19.18016 23.51591 28.57873 34.5834  41.94045 51.70116]\n",
      "\n",
      "Las raices de los polinomios de Laguerre de grado 17 son: \n",
      "[ 0.08264  0.43615  1.07518  2.00519  3.23426  4.77351  6.63783  8.84669\n",
      " 11.42553 14.40782 17.83828 21.77827 26.31532 31.58177 37.79609 45.37572\n",
      " 55.38975]\n",
      "\n",
      "Las raices de los polinomios de Laguerre de grado 18 son: \n",
      "[ 0.07817  0.41249  1.01652  1.89489  3.05435  4.50421  6.25673  8.32783\n",
      " 10.73799 13.51366 16.68931 20.31077 24.44068 29.16821 34.62793 41.04182\n",
      " 48.83392 59.09055]\n",
      "\n",
      "Las raices de los polinomios de Laguerre de grado 19 son: \n",
      "[ 0.07416  0.39127  0.96396  1.79618  2.89365  4.26422  5.91814  7.86862\n",
      " 10.13242 12.73088 15.69128 19.04899 22.85085 27.16067 32.06912 37.71291\n",
      " 44.31736 52.3129  62.80242]\n",
      "\n",
      "Las raices de los polinomios de Laguerre de grado 20 son: \n",
      "[ 0.07054  0.37213  0.91658  1.70731  2.7492   4.04893  5.61517  7.45902\n",
      "  9.59439 12.0388  14.81429 17.9489  21.47879 25.4517  29.93256 35.01343\n",
      " 40.83306 47.61999 55.8108  66.52442]\n"
     ]
    }
   ],
   "source": [
    "Raices=np.array([])\n",
    "n=20\n",
    "x=np.linspace(1,60,2000)\n",
    "for i in range(1,n+1): \n",
    "    #f=laguerre(i)\n",
    "\n",
    "    \n",
    "    raices = GetAllRoots(Laguerre(i),x)\n",
    "    if i>1:\n",
    "        print('\\nLas raices de los polinomios de Laguerre de grado '+str(i)+' son: ')\n",
    "        print(raices)\n",
    "    else:\n",
    "        print('\\nLa raíz del polinomio de Laguerre de grado '+str(i)+' es: ')\n",
    "        print(raices)\n",
    "    Raices=np.append(Raices,raices)\n",
    "    \n",
    "    "
   ]
  },
  {
   "cell_type": "code",
   "execution_count": 429,
   "id": "b844b48e",
   "metadata": {},
   "outputs": [
    {
     "data": {
      "text/plain": [
       "array([ 1.     ,  0.58579,  3.41421,  0.41577,  2.29428,  6.28995,\n",
       "        0.32255,  1.74576,  4.53662,  9.39507,  0.26356,  1.4134 ,\n",
       "        3.59643,  7.08581, 12.6408 ,  0.22285,  1.18893,  2.99274,\n",
       "        5.77514,  9.83747, 15.98287,  0.19304,  1.02666,  2.56788,\n",
       "        4.90035,  8.18215, 12.73418, 19.39573,  0.17028,  0.9037 ,\n",
       "        2.25109,  4.2667 ,  7.04591, 10.75852, 15.74068, 22.86313,\n",
       "        0.15232,  0.80722,  2.00514,  3.78347,  6.20496,  9.37299,\n",
       "       13.46624, 18.8336 , 26.37407,  0.13779,  0.72945,  1.80834,\n",
       "        3.40143,  5.5525 ,  8.33015, 11.84379, 16.27926, 21.99659,\n",
       "       29.9207 ,  0.1258 ,  0.66542,  1.64715,  3.09114,  5.02928,\n",
       "        7.50989, 10.60595, 14.43161, 19.17886, 25.21771, 33.49719,\n",
       "        0.11572,  0.61176,  1.51261,  2.83375,  4.59923,  6.84453,\n",
       "        9.62132, 13.00605, 17.11686, 22.15109, 28.48797, 37.09912,\n",
       "        0.10714,  0.56613,  1.39856,  2.6166 ,  4.23885,  6.29226,\n",
       "        8.815  , 11.8614 , 15.51076, 19.88464, 25.18526, 31.80039,\n",
       "       40.72301,  0.09975,  0.52686,  1.30063,  2.4308 ,  3.9321 ,\n",
       "        5.82554,  8.14024, 10.9165 , 14.21081, 18.10489, 22.72338,\n",
       "       28.27298, 35.14944, 44.36608,  0.09331,  0.49269,  1.2156 ,\n",
       "        2.26995,  3.66762,  5.42534,  7.56592, 10.12023, 13.13028,\n",
       "       16.65441, 20.77648, 25.62389, 31.40752, 38.53068, 48.02609,\n",
       "        0.08765,  0.4627 ,  1.14106,  2.12928,  3.43709,  5.07802,\n",
       "        7.07034,  9.43831, 12.21422, 15.44153, 19.18016, 23.51591,\n",
       "       28.57873, 34.5834 , 41.94045, 51.70116,  0.08264,  0.43615,\n",
       "        1.07518,  2.00519,  3.23426,  4.77351,  6.63783,  8.84669,\n",
       "       11.42553, 14.40782, 17.83828, 21.77827, 26.31532, 31.58177,\n",
       "       37.79609, 45.37572, 55.38975,  0.07817,  0.41249,  1.01652,\n",
       "        1.89489,  3.05435,  4.50421,  6.25673,  8.32783, 10.73799,\n",
       "       13.51366, 16.68931, 20.31077, 24.44068, 29.16821, 34.62793,\n",
       "       41.04182, 48.83392, 59.09055,  0.07416,  0.39127,  0.96396,\n",
       "        1.79618,  2.89365,  4.26422,  5.91814,  7.86862, 10.13242,\n",
       "       12.73088, 15.69128, 19.04899, 22.85085, 27.16067, 32.06912,\n",
       "       37.71291, 44.31736, 52.3129 , 62.80242,  0.07054,  0.37213,\n",
       "        0.91658,  1.70731,  2.7492 ,  4.04893,  5.61517,  7.45902,\n",
       "        9.59439, 12.0388 , 14.81429, 17.9489 , 21.47879, 25.4517 ,\n",
       "       29.93256, 35.01343, 40.83306, 47.61999, 55.8108 , 66.52442])"
      ]
     },
     "execution_count": 429,
     "metadata": {},
     "output_type": "execute_result"
    }
   ],
   "source": [
    "Raices"
   ]
  },
  {
   "cell_type": "code",
   "execution_count": 430,
   "id": "73ee9ea8",
   "metadata": {},
   "outputs": [
    {
     "data": {
      "text/plain": [
       "True"
      ]
     },
     "execution_count": 430,
     "metadata": {},
     "output_type": "execute_result"
    }
   ],
   "source": [
    "suma=0\n",
    "val=0\n",
    "for i in range(1,21): \n",
    "    \n",
    "    Ex=np.polynomial.laguerre.laggauss(i)\n",
    "    suma+=len(Ex[0])\n",
    "suma==len(Raices)"
   ]
  },
  {
   "cell_type": "code",
   "execution_count": null,
   "id": "4eb261c4",
   "metadata": {},
   "outputs": [],
   "source": []
  }
 ],
 "metadata": {
  "kernelspec": {
   "display_name": "Python 3 (ipykernel)",
   "language": "python",
   "name": "python3"
  },
  "language_info": {
   "codemirror_mode": {
    "name": "ipython",
    "version": 3
   },
   "file_extension": ".py",
   "mimetype": "text/x-python",
   "name": "python",
   "nbconvert_exporter": "python",
   "pygments_lexer": "ipython3",
   "version": "3.9.7"
  }
 },
 "nbformat": 4,
 "nbformat_minor": 5
}
