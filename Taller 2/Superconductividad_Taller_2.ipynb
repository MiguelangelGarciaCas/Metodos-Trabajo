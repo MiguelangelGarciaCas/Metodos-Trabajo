{
 "cells": [
  {
   "cell_type": "code",
   "execution_count": 154,
   "id": "c0c2c5e8",
   "metadata": {},
   "outputs": [],
   "source": [
    "import numpy as np"
   ]
  },
  {
   "cell_type": "code",
   "execution_count": 166,
   "id": "d88f7d13",
   "metadata": {},
   "outputs": [],
   "source": [
    "NOV=0.3\n",
    "TD=300\n",
    "dT=1e-4\n",
    "Points, Weights=np.polynomial.legendre.leggauss(50)\n",
    "a=-1\n",
    "b=1"
   ]
  },
  {
   "cell_type": "code",
   "execution_count": 173,
   "id": "e8908dec",
   "metadata": {},
   "outputs": [],
   "source": [
    "def integrand(x,T):\n",
    "    \n",
    "    return (np.tanh(np.sqrt(x**2 + dT**2)*TD / (2*T)) / np.sqrt(x**2 + dT**2))\n"
   ]
  },
  {
   "cell_type": "code",
   "execution_count": 175,
   "id": "e3472e16",
   "metadata": {},
   "outputs": [
    {
     "name": "stdout",
     "output_type": "stream",
     "text": [
      "La temperatura crítica es: Tc ≈ 12.133599999985154 K\n"
     ]
    }
   ],
   "source": [
    "def critical_temperature():\n",
    "    integral=0\n",
    "    condicion=0\n",
    "    T = 1\n",
    "    T_c = None\n",
    "    condicion=True\n",
    "    while T <= 20.0 and condicion:\n",
    "        \n",
    "        \n",
    "        I=0\n",
    "        \n",
    "        for i in range(len(Weights)):\n",
    "            t=(((b-a)*Points[i])+a+b)/2\n",
    "            I+=(Weights[i]*integrand(t,T))\n",
    "        I*=0.5*(b-a)*0.5\n",
    "        if np.abs(I - 1/(NOV)) < dT:\n",
    "            T_c = T\n",
    "            condicion=False\n",
    "            return T_c\n",
    "        else:\n",
    "            T+=dT\n",
    "\n",
    "print(\"La temperatura crítica es: Tc ≈\", critical_temperature(), \"K\")"
   ]
  },
  {
   "cell_type": "code",
   "execution_count": null,
   "id": "c8a70a1d",
   "metadata": {},
   "outputs": [],
   "source": []
  }
 ],
 "metadata": {
  "kernelspec": {
   "display_name": "Python 3 (ipykernel)",
   "language": "python",
   "name": "python3"
  },
  "language_info": {
   "codemirror_mode": {
    "name": "ipython",
    "version": 3
   },
   "file_extension": ".py",
   "mimetype": "text/x-python",
   "name": "python",
   "nbconvert_exporter": "python",
   "pygments_lexer": "ipython3",
   "version": "3.9.7"
  }
 },
 "nbformat": 4,
 "nbformat_minor": 5
}
