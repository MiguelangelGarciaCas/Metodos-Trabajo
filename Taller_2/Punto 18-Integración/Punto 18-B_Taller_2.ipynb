{
 "cells": [
  {
   "cell_type": "code",
   "execution_count": 310,
   "id": "64c9caba",
   "metadata": {},
   "outputs": [],
   "source": [
    "import numpy as np\n",
    "import matplotlib.pyplot as plt\n",
    "from mpl_toolkits.mplot3d import axes3d\n",
    "import sympy as sym\n",
    "from tqdm import tqdm\n",
    "import matplotlib.animation as anim"
   ]
  },
  {
   "cell_type": "code",
   "execution_count": 335,
   "id": "103e051c",
   "metadata": {},
   "outputs": [],
   "source": [
    "x = sym.Symbol('x',Real=True)\n",
    "def f(x):\n",
    "    return (2*x**4)/(np.sqrt(np.pi)*sym.exp(x**2))"
   ]
  },
  {
   "cell_type": "code",
   "execution_count": 320,
   "id": "3bef205a",
   "metadata": {},
   "outputs": [
    {
     "name": "stdout",
     "output_type": "stream",
     "text": [
      "0.6108380567086573\n"
     ]
    }
   ],
   "source": [
    "\n",
    "df=sym.diff(f(x),x)\n",
    "roots=sym.solve(df,x)\n",
    "#print(roots)\n",
    "raiz=roots[2]\n",
    "#print(raiz)\n",
    "y_max=float(f(raiz))\n",
    "print(y_max)\n",
    "#print(val_x,valor_maximo) "
   ]
  },
  {
   "cell_type": "code",
   "execution_count": 316,
   "id": "a81ebca9",
   "metadata": {},
   "outputs": [],
   "source": [
    "val_y=y_max\n",
    "aumento=1e-5\n",
    "\n",
    "i=raiz\n",
    "while 1e-5<val_y:\n",
    "    \n",
    "    val_y=f(i)\n",
    "    valx_max=i\n",
    "    i+=aumento\n",
    "\n",
    "x_max=float(valx_max)"
   ]
  },
  {
   "cell_type": "code",
   "execution_count": 350,
   "id": "0c0dde50",
   "metadata": {},
   "outputs": [
    {
     "name": "stderr",
     "output_type": "stream",
     "text": [
      "100%|████████████████████████████████████████████████████████████████████████| 100000/100000 [01:07<00:00, 1483.13it/s]\n"
     ]
    }
   ],
   "source": [
    "N = int(1e5)\n",
    "Points = np.array([0,0])\n",
    "Integral = np.array([])\n",
    "Aceptado = 0\n",
    "valores_y=np.array([])\n",
    "valores_x=np.array([])\n",
    "for i in tqdm(range(N)):\n",
    "    \n",
    "    xi = np.random.uniform(-x_max,x_max)\n",
    "    yi = np.random.uniform(0,y_max)\n",
    "    \n",
    "    if yi < f(xi):\n",
    "        valores_y=np.append(valores_y,yi)\n",
    "        valores_x=np.append(valores_x,xi)\n",
    "        Aceptado += 1\n"
   ]
  },
  {
   "cell_type": "code",
   "execution_count": 351,
   "id": "7139fbb4",
   "metadata": {},
   "outputs": [
    {
     "name": "stdout",
     "output_type": "stream",
     "text": [
      "1.4930381768657768\n"
     ]
    }
   ],
   "source": [
    "print((Aceptado/N)*y_max*2*x_max)"
   ]
  },
  {
   "cell_type": "code",
   "execution_count": 352,
   "id": "1da0ae77",
   "metadata": {},
   "outputs": [],
   "source": [
    "X=np.linspace(-x_max,x_max,1000)\n",
    "Y=np.array([])\n",
    "\n",
    "for i in range(len(X)):\n",
    "    Y=np.append(Y,f(X[i]))"
   ]
  },
  {
   "cell_type": "code",
   "execution_count": 353,
   "id": "81a059e5",
   "metadata": {},
   "outputs": [
    {
     "data": {
      "text/plain": [
       "<matplotlib.collections.PathCollection at 0x288156f4910>"
      ]
     },
     "execution_count": 353,
     "metadata": {},
     "output_type": "execute_result"
    },
    {
     "data": {
      "image/png": "[encoded data removed]",
      "text/plain": [
       "<Figure size 360x360 with 1 Axes>"
      ]
     },
     "metadata": {
      "needs_background": "light"
     },
     "output_type": "display_data"
    }
   ],
   "source": [
    "fig = plt.figure(figsize=(5,5))\n",
    "ax1 = fig.add_subplot(1,1,1)\n",
    "ax1.plot(X,Y,'r')\n",
    "ax1.scatter(valores_x,valores_y)"
   ]
  }
 ],
 "metadata": {
  "kernelspec": {
   "display_name": "Python 3 (ipykernel)",
   "language": "python",
   "name": "python3"
  },
  "language_info": {
   "codemirror_mode": {
    "name": "ipython",
    "version": 3
   },
   "file_extension": ".py",
   "mimetype": "text/x-python",
   "name": "python",
   "nbconvert_exporter": "python",
   "pygments_lexer": "ipython3",
   "version": "3.9.7"
  }
 },
 "nbformat": 4,
 "nbformat_minor": 5
}
