{
 "cells": [
  {
   "cell_type": "markdown",
   "id": "8f045b3b",
   "metadata": {},
   "source": [
    "Supongamos que hay dos polinomios interpoladores, $p(x)$ y $q(x)$, tales que para un conjunto de puntos $x_0,x_1,...,x_n$ se cumple:\n",
    "\n",
    "$$p(x_i) = q(x_i) \\qquad \\forall i \\in {0,1,...,n}$$\n",
    "\n",
    "Definamos el polinomio $r(x) = p(x) - q(x)$. Entonces:\n",
    "\n",
    "$$r(x_i) = p(x_i) - q(x_i) = 0 \\qquad \\forall i \\in {0,1,...,n}$$\n",
    "\n",
    "Lo que significa que $r(x)$ tiene $n+1$ raíces, es decir, es un polinomio de grado $n$ con $n+1$ raíces distintas. Pero un polinomio de grado $n$ con $n+1$ raíces distintas debe ser el polinomio nulo, es decir, $r(x) = 0$. Por lo tanto, $p(x) = q(x)$ y el polinomio interpolador de Lagrange es único."
   ]
  },
  {
   "cell_type": "code",
   "execution_count": null,
   "id": "e742d5c3",
   "metadata": {},
   "outputs": [],
   "source": []
  }
 ],
 "metadata": {
  "kernelspec": {
   "display_name": "Python 3 (ipykernel)",
   "language": "python",
   "name": "python3"
  },
  "language_info": {
   "codemirror_mode": {
    "name": "ipython",
    "version": 3
   },
   "file_extension": ".py",
   "mimetype": "text/x-python",
   "name": "python",
   "nbconvert_exporter": "python",
   "pygments_lexer": "ipython3",
   "version": "3.9.13"
  }
 },
 "nbformat": 4,
 "nbformat_minor": 5
}
