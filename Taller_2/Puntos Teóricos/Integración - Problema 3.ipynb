{
 "cells": [
  {
   "cell_type": "markdown",
   "id": "7ab5aed1",
   "metadata": {},
   "source": [
    "Primero debemos aproximar la función $f(x)$ en el intervalo $[a,b]$ mediante un polinomio de segundo grado $p_2(x)$,\n",
    "\n",
    "El polinomio de segundo grado $p_2(x)$ se puede expresar en la forma general:\n",
    "\n",
    "$$p_2(x) = Ax^2 + Bx + C$$\n",
    "\n",
    "donde $A$, $B$, y $C$ son coeficientes desconocidos que deben ser determinados para que $p_2(x)$ pase por los puntos mencionados anteriormente.\n",
    "\n",
    "Para encontrar estos coeficientes, podemos usar las siguientes tres condiciones:\n",
    "\n",
    "\\begin{align*}\n",
    "&p_2(a) = f(a)\\\n",
    "&p_2(m) = f(m)\\\n",
    "&p_2(b) = f(b)\n",
    "\\end{align*}\n",
    "\n",
    "Sustituyendo la forma general del polinomio $p_2(x)$:\n",
    "\n",
    "\\begin{align*}\n",
    "&Aa^2 + Ba + C = f(a)\\\n",
    "&Am^2 + Bm + C = f(m)\\\n",
    "&Ab^2 + Bb + C = f(b)\n",
    "\\end{align*}\n",
    "\n",
    "Resolviendo este sistema de ecuaciones:\n",
    "\n",
    "\\begin{align*}\n",
    "&A = \\frac{f(a) - 2f(m) + f(b)}{(a-m)^2}\\\n",
    "&B = \\frac{f(b) - f(a)}{b-a} - \\frac{f(a) - 2f(m) + f(b)}{(b-m)(a-m)}\\\n",
    "&C = f(a) - \\frac{f(b) - f(a)}{b-a}(a) - \\frac{f(a) - 2f(m) + f(b)}{(a-m)^2}a^2\n",
    "\\end{align*}\n",
    "\n",
    "Ahora que tenemos el polinomio $p_2(x)$, aproximamos la integral de $f(x)$ en el intervalo $[a,b]$:\n",
    "\n",
    "$$\\int_a^b f(x) dx \\approx \\int_a^b p_2(x) dx$$\n",
    "\n",
    "Esta integral se puede calcular usando la regla de integración de Simpson:\n",
    "\n",
    "$$\\int_a^b p_2(x) dx \\approx \\frac{h}{3} (f(a) + 4f(m) + f(b))$$\n",
    "\n",
    "\n",
    "\n",
    "$$\\int_a^b f(x) dx \\approx \\frac{h}{3} (f(a) + 4f(m) + f(b))$$"
   ]
  },
  {
   "cell_type": "code",
   "execution_count": null,
   "id": "8a312dad",
   "metadata": {},
   "outputs": [],
   "source": []
  }
 ],
 "metadata": {
  "kernelspec": {
   "display_name": "Python 3 (ipykernel)",
   "language": "python",
   "name": "python3"
  },
  "language_info": {
   "codemirror_mode": {
    "name": "ipython",
    "version": 3
   },
   "file_extension": ".py",
   "mimetype": "text/x-python",
   "name": "python",
   "nbconvert_exporter": "python",
   "pygments_lexer": "ipython3",
   "version": "3.9.13"
  }
 },
 "nbformat": 4,
 "nbformat_minor": 5
}
